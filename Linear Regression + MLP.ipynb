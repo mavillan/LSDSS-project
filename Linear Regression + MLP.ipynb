{
 "cells": [
  {
   "cell_type": "markdown",
   "metadata": {},
   "source": [
    "# Linear Regression Based Model"
   ]
  },
  {
   "cell_type": "code",
   "execution_count": 29,
   "metadata": {
    "collapsed": true
   },
   "outputs": [],
   "source": [
    "import pandas as pd\n",
    "import matplotlib.pyplot as plt\n",
    "import numpy as np\n",
    "import re\n",
    "import csv\n",
    "import numba\n",
    "from sklearn import model_selection as cv\n",
    "from scipy.optimize import minimize\n",
    "from sklearn.model_selection import train_test_split\n",
    "from sklearn import linear_model\n",
    "from sklearn.metrics import mean_squared_error\n",
    "import warnings\n",
    "warnings.filterwarnings(\"ignore\")"
   ]
  },
  {
   "cell_type": "markdown",
   "metadata": {},
   "source": [
    "## About the model...\n",
    "\n",
    "For a given user $u$ and a given movie $m$, we can write the linear model as:\n",
    "$$\n",
    "f(u,m) = X_{u,m} \\cdot \\theta\n",
    "$$\n",
    "\n",
    "Where $X_{u,m}$ is the _features vector_ for the combination $(u,m)$ and $\\theta$ is the parameters vector to be learned.\n",
    "\n",
    "The **features matrix** then is a 3-dimensional array of dimensions $U \\times M \\times F$, where $U$ is the number of users, $M$ the number of movies and $F$ is the number of features. \n",
    "\n",
    "The **predictions** then are a $U \\times M$ matrix.\n",
    "\n",
    "\n",
    "## About the features space\n",
    "\n",
    "For the representation of the $(u,v)$ we choose an $48$-dimensional space (a common approach...).\n",
    "\n",
    "The __user__ has the following features:\n",
    "* __Gender__: Binarized in $2$ features\n",
    "* __Age__: Binarized in $7$ features corresponding two $6$ intervals of ages.\n",
    "* __Occupation__: Binarized in $21$ features corresponding to the $21$ groups of occupations\n",
    "* __Zip code__ (not used)\n",
    "\n",
    "The __movie__ has the following features:\n",
    "* __Title__ (not used)\n",
    "* __Genres__: Binarized in $18$ features corresponding two the $18$ available genres for movies."
   ]
  },
  {
   "cell_type": "code",
   "execution_count": 2,
   "metadata": {},
   "outputs": [
    {
     "data": {
      "text/html": [
       "<div>\n",
       "<style>\n",
       "    .dataframe thead tr:only-child th {\n",
       "        text-align: right;\n",
       "    }\n",
       "\n",
       "    .dataframe thead th {\n",
       "        text-align: left;\n",
       "    }\n",
       "\n",
       "    .dataframe tbody tr th {\n",
       "        vertical-align: top;\n",
       "    }\n",
       "</style>\n",
       "<table border=\"1\" class=\"dataframe\">\n",
       "  <thead>\n",
       "    <tr style=\"text-align: right;\">\n",
       "      <th></th>\n",
       "      <th>userid</th>\n",
       "      <th>movieid</th>\n",
       "      <th>rating</th>\n",
       "      <th>timestamp</th>\n",
       "      <th>gender</th>\n",
       "      <th>age</th>\n",
       "      <th>occupation</th>\n",
       "      <th>zip-code</th>\n",
       "      <th>title</th>\n",
       "      <th>genres</th>\n",
       "    </tr>\n",
       "  </thead>\n",
       "  <tbody>\n",
       "    <tr>\n",
       "      <th>324271</th>\n",
       "      <td>1996</td>\n",
       "      <td>2406</td>\n",
       "      <td>4</td>\n",
       "      <td>974743570</td>\n",
       "      <td>M</td>\n",
       "      <td>35</td>\n",
       "      <td>0</td>\n",
       "      <td>85621</td>\n",
       "      <td>Romancing the Stone (1984)</td>\n",
       "      <td>Action|Adventure|Comedy|Romance</td>\n",
       "    </tr>\n",
       "    <tr>\n",
       "      <th>818637</th>\n",
       "      <td>921</td>\n",
       "      <td>2071</td>\n",
       "      <td>4</td>\n",
       "      <td>975203825</td>\n",
       "      <td>M</td>\n",
       "      <td>25</td>\n",
       "      <td>17</td>\n",
       "      <td>92084</td>\n",
       "      <td>And the Band Played On (1993)</td>\n",
       "      <td>Drama</td>\n",
       "    </tr>\n",
       "    <tr>\n",
       "      <th>148677</th>\n",
       "      <td>323</td>\n",
       "      <td>3809</td>\n",
       "      <td>4</td>\n",
       "      <td>976408046</td>\n",
       "      <td>M</td>\n",
       "      <td>45</td>\n",
       "      <td>12</td>\n",
       "      <td>53716</td>\n",
       "      <td>What About Bob? (1991)</td>\n",
       "      <td>Comedy</td>\n",
       "    </tr>\n",
       "    <tr>\n",
       "      <th>778790</th>\n",
       "      <td>346</td>\n",
       "      <td>1390</td>\n",
       "      <td>4</td>\n",
       "      <td>976335541</td>\n",
       "      <td>F</td>\n",
       "      <td>25</td>\n",
       "      <td>0</td>\n",
       "      <td>55110</td>\n",
       "      <td>My Fellow Americans (1996)</td>\n",
       "      <td>Comedy</td>\n",
       "    </tr>\n",
       "    <tr>\n",
       "      <th>525489</th>\n",
       "      <td>4004</td>\n",
       "      <td>3175</td>\n",
       "      <td>2</td>\n",
       "      <td>965560544</td>\n",
       "      <td>M</td>\n",
       "      <td>50</td>\n",
       "      <td>0</td>\n",
       "      <td>21050</td>\n",
       "      <td>Galaxy Quest (1999)</td>\n",
       "      <td>Adventure|Comedy|Sci-Fi</td>\n",
       "    </tr>\n",
       "  </tbody>\n",
       "</table>\n",
       "</div>"
      ],
      "text/plain": [
       "        userid  movieid  rating  timestamp gender  age  occupation zip-code  \\\n",
       "324271    1996     2406       4  974743570      M   35           0    85621   \n",
       "818637     921     2071       4  975203825      M   25          17    92084   \n",
       "148677     323     3809       4  976408046      M   45          12    53716   \n",
       "778790     346     1390       4  976335541      F   25           0    55110   \n",
       "525489    4004     3175       2  965560544      M   50           0    21050   \n",
       "\n",
       "                                title                           genres  \n",
       "324271     Romancing the Stone (1984)  Action|Adventure|Comedy|Romance  \n",
       "818637  And the Band Played On (1993)                            Drama  \n",
       "148677         What About Bob? (1991)                           Comedy  \n",
       "778790     My Fellow Americans (1996)                           Comedy  \n",
       "525489            Galaxy Quest (1999)          Adventure|Comedy|Sci-Fi  "
      ]
     },
     "execution_count": 2,
     "metadata": {},
     "output_type": "execute_result"
    }
   ],
   "source": [
    "# Load data\n",
    "ratings = pd.read_csv('ml-1m/ratings.dat', sep='::', engine='python')\n",
    "users = pd.read_csv('ml-1m/users.dat', sep='::', engine='python')\n",
    "movies = pd.read_csv('ml-1m/movies.dat', sep='::', engine='python')\n",
    "\n",
    "ratings.columns = map(str.lower, ratings.columns)\n",
    "users.columns = map(str.lower, users.columns)\n",
    "movies.columns = map(str.lower, movies.columns)\n",
    "\n",
    "df = pd.merge(ratings,users)\n",
    "df = pd.merge(df,movies)\n",
    "\n",
    "# Subsampling the data\n",
    "sample_size = 100000\n",
    "df = df.sample(sample_size, random_state=0)\n",
    "df.head()"
   ]
  },
  {
   "cell_type": "markdown",
   "metadata": {},
   "source": [
    "## Encoding the categorical data"
   ]
  },
  {
   "cell_type": "code",
   "execution_count": 3,
   "metadata": {
    "collapsed": true
   },
   "outputs": [],
   "source": [
    "df['gender'] = df['gender'].replace(['M','F'],[0,1])\n",
    "df['genres'] = df['genres'].str.replace('|',',')\n",
    "df['genres'] = df['genres'].str.replace('Action','0')\n",
    "df['genres'] = df['genres'].str.replace('Adventure','1')\n",
    "df['genres'] = df['genres'].str.replace('Animation','2')\n",
    "df['genres'] = df['genres'].str.replace(\"Children's\",'3')\n",
    "df['genres'] = df['genres'].str.replace('Comedy','4')\n",
    "df['genres'] = df['genres'].str.replace('Crime','5')\n",
    "df['genres'] = df['genres'].str.replace('Documentary','6')\n",
    "df['genres'] = df['genres'].str.replace('Drama','7')\n",
    "df['genres'] = df['genres'].str.replace('Fantasy','8')\n",
    "df['genres'] = df['genres'].str.replace('Film-Noir','9')\n",
    "df['genres'] = df['genres'].str.replace('Horror','10')\n",
    "df['genres'] = df['genres'].str.replace('Musical','11')\n",
    "df['genres'] = df['genres'].str.replace('Mystery','12')\n",
    "df['genres'] = df['genres'].str.replace('Romance','13')\n",
    "df['genres'] = df['genres'].str.replace('Sci-Fi','14')\n",
    "df['genres'] = df['genres'].str.replace('Thriller','15')\n",
    "df['genres'] = df['genres'].str.replace('War','16')\n",
    "df['genres'] = df['genres'].str.replace('Western','17')\n",
    "\n",
    "df['age'] = df['age'].replace('1',0)\n",
    "df['age'] = df['age'].replace('18',1)\n",
    "df['age'] = df['age'].replace('25',2)\n",
    "df['age'] = df['age'].replace('35',3)\n",
    "df['age'] = df['age'].replace('45',4)\n",
    "df['age'] = df['age'].replace('50',5)\n",
    "df['age'] = df['age'].replace('56',6)"
   ]
  },
  {
   "cell_type": "code",
   "execution_count": 4,
   "metadata": {},
   "outputs": [
    {
     "name": "stdout",
     "output_type": "stream",
     "text": [
      "Number of users: 6040\n",
      "Number of items: 3952\n"
     ]
    }
   ],
   "source": [
    "n_users = df['userid'].max(); print(\"Number of users: {0}\".format(n_users))\n",
    "n_items = df['movieid'].max(); print(\"Number of items: {0}\".format(n_items))"
   ]
  },
  {
   "cell_type": "markdown",
   "metadata": {},
   "source": [
    "## Splitting the data into training (75%) and test (25%) sets"
   ]
  },
  {
   "cell_type": "code",
   "execution_count": 8,
   "metadata": {
    "collapsed": true
   },
   "outputs": [],
   "source": [
    "# 75% for training\n",
    "# 25% for test\n",
    "df_train, df_test = cv.train_test_split(df, test_size=0.25)"
   ]
  },
  {
   "cell_type": "markdown",
   "metadata": {},
   "source": [
    "## Building the features matrix"
   ]
  },
  {
   "cell_type": "code",
   "execution_count": 5,
   "metadata": {
    "collapsed": true
   },
   "outputs": [],
   "source": [
    "users = df_train['userid'].values-1\n",
    "movies = df_train['movieid'].values-1\n",
    "rating = df_train['rating'].values\n",
    "gender = df_train['gender'].values\n",
    "age = df_train['age'].values\n",
    "occupation = df_train['occupation'].values\n",
    "genres = df_train['genres'].values\n",
    "\n",
    "# Building the features matrix\n",
    "feat_matrix = np.zeros((n_users,n_items,48))\n",
    "\n",
    "uid = ratings['userid'].values - 1\n",
    "mid = ratings['movieid'].values - 1\n",
    "rt =  ratings['rating'].values\n",
    "\n",
    "for i in range(df.shape[0]):\n",
    "    # Check gender\n",
    "    u_index = uid[i]\n",
    "    m_index = mid[i]\n",
    "    \n",
    "    if gender[i] == 0:\n",
    "        feat_matrix[u_index, m_index, 0]=1\n",
    "    else:\n",
    "        feat_matrix[u_index, m_index ,1]=1\n",
    "\n",
    "    # Check age\n",
    "    for j in range(0,6):\n",
    "        if age[i] == j:\n",
    "            feat_matrix[u_index, m_index, j+2] = 1\n",
    "\n",
    "    # Check occupation\n",
    "    for k in range(0,20):\n",
    "        if occupation[i] == k:\n",
    "            feat_matrix[u_index, m_index, k+9] = 1\n",
    "\n",
    "    # Check genres\n",
    "    for l in range(0,17):\n",
    "        if '%d' %(l) in genres[i]:\n",
    "            feat_matrix[u_index, m_index, l+30]=1  "
   ]
  },
  {
   "cell_type": "code",
   "execution_count": 6,
   "metadata": {
    "collapsed": true
   },
   "outputs": [],
   "source": [
    "users = df_test['userid'].values-1\n",
    "movies = df_test['movieid'].values-1\n",
    "rating = df_test['rating'].values\n",
    "gender = df_test['gender'].values\n",
    "age = df_test['age'].values\n",
    "occupation = df_test['occupation'].values\n",
    "genres = df_test['genres'].values\n",
    "\n",
    "# Building the features matrix\n",
    "feat_matrix_test = np.zeros((n_users,n_items,48))\n",
    "\n",
    "uid = ratings['userid'].values - 1\n",
    "mid = ratings['movieid'].values - 1\n",
    "rt =  ratings['rating'].values\n",
    "\n",
    "for i in range(df.shape[0]):\n",
    "    # Check gender\n",
    "    u_index = uid[i]\n",
    "    m_index = mid[i]\n",
    "    \n",
    "    if gender[i] == 0:\n",
    "        feat_matrix_test[u_index, m_index, 0]=1\n",
    "    else:\n",
    "        feat_matrix_test[u_index, m_index ,1]=1\n",
    "\n",
    "    # Check age\n",
    "    for j in range(0,6):\n",
    "        if age[i] == j:\n",
    "            feat_matrix_test[u_index, m_index, j+2] = 1\n",
    "\n",
    "    # Check occupation\n",
    "    for k in range(0,20):\n",
    "        if occupation[i] == k:\n",
    "            feat_matrix_test[u_index, m_index, k+9] = 1\n",
    "\n",
    "    # Check genres\n",
    "    for l in range(0,17):\n",
    "        if '%d' %(l) in genres[i]:\n",
    "            feat_matrix_test[u_index, m_index, l+30]=1 "
   ]
  },
  {
   "cell_type": "markdown",
   "metadata": {},
   "source": [
    "## The mapping\n",
    "\n",
    "Most methods (in scikit-learn) require the __features matrix__ $X$ to be 2-dimensional, and the response variable to be 1-dimensional. For such reasons we perform a mapping to match this format, by flattening the arrays: \n",
    "\n",
    "**Each `U[u,v,:]` entry is a row of the 2-dimensional features matrix.**\n"
   ]
  },
  {
   "cell_type": "code",
   "execution_count": 7,
   "metadata": {
    "collapsed": true
   },
   "outputs": [],
   "source": [
    "# 3D to 2D mapping\n",
    "m,n,_ = feat_matrix.shape\n",
    "_feat_matrix = np.empty((m*n,48))\n",
    "for i in range(m):\n",
    "    for j in range(n):\n",
    "        _feat_matrix[i*j,:] = feat_matrix[i,j,:]\n",
    "        \n",
    "# 3D to 2D mapping\n",
    "m,n,_ = feat_matrix.shape\n",
    "_feat_matrix_test = np.empty((m*n,48))\n",
    "for i in range(m):\n",
    "    for j in range(n):\n",
    "        _feat_matrix_test[i*j,:] = feat_matrix_test[i,j,:]"
   ]
  },
  {
   "cell_type": "code",
   "execution_count": 8,
   "metadata": {
    "collapsed": true
   },
   "outputs": [],
   "source": [
    "# Building the predictions matrix for the training data (ground truth) \n",
    "rating_matrix = np.zeros((n_users, n_items))\n",
    "\n",
    "for i in range(df.shape[0]):\n",
    "    # Check gender\n",
    "    u_index = uid[i]\n",
    "    m_index = mid[i]  \n",
    "    rating_matrix[u_index,m_index] = rating[i]\n",
    "    \n",
    "# Building the predictions matrix for the test data (ground truth) \n",
    "rating_matrix_test = np.zeros((n_users, n_items))\n",
    "\n",
    "for i in range(df.shape[0]):\n",
    "    # Check gender\n",
    "    u_index = uid[i]\n",
    "    m_index = mid[i]  \n",
    "    rating_matrix_test[u_index,m_index] = rating[i]"
   ]
  },
  {
   "cell_type": "code",
   "execution_count": 9,
   "metadata": {
    "collapsed": true
   },
   "outputs": [],
   "source": [
    "@numba.jit()\n",
    "def predict(feat_matrix, theta):\n",
    "    m,n,_ = feat_matrix.shape\n",
    "    pred = np.empty((m,n))\n",
    "    \n",
    "    for i in range(m):\n",
    "        for j in range(n):\n",
    "            pred[i,j] = np.dot(feat_matrix[i,j,:], theta)\n",
    "    \n",
    "    return pred"
   ]
  },
  {
   "cell_type": "markdown",
   "metadata": {},
   "source": [
    "## The loss function\n",
    "We use the MSE function to measure as loss to be minimized:\n",
    "$$L(\\theta) = \\frac{1}{U\\cdot V} \\sum_{u,v} (r(u,v) - X_{u,v} \\theta)^2 $$"
   ]
  },
  {
   "cell_type": "code",
   "execution_count": 10,
   "metadata": {
    "collapsed": true
   },
   "outputs": [],
   "source": [
    "def loss(y_real, y_pred):\n",
    "    return np.sum((y_real-y_pred)**2)"
   ]
  },
  {
   "cell_type": "code",
   "execution_count": 12,
   "metadata": {},
   "outputs": [
    {
     "name": "stdout",
     "output_type": "stream",
     "text": [
      "MSE in training set: 2.95981919\n",
      "MSE in test set: 9.12108112\n"
     ]
    }
   ],
   "source": [
    "# Create linear regression object\n",
    "regr = linear_model.LinearRegression()\n",
    "\n",
    "# Train the model using the training set\n",
    "regr.fit(_feat_matrix, rating_matrix.ravel())\n",
    "\n",
    "# Validating the model using the training and test set\n",
    "pred_rating_train = regr.predict(_feat_matrix)\n",
    "pred_rating_test = regr.predict(_feat_matrix_test)\n",
    "\n",
    "print(\"MSE in training set: {0}\".format( mean_squared_error(pred_rating_train, rating_matrix.ravel()) ))\n",
    "print(\"MSE in test set: {0}\".format( mean_squared_error(pred_rating_test, rating_matrix_test.ravel()) ))"
   ]
  },
  {
   "cell_type": "markdown",
   "metadata": {},
   "source": [
    "## Some dangerous situations...\n",
    "* With the representation we choose for the the pair $(u,m)$, it is possible (but very unlikely) are all zeros:\n",
    "$$\n",
    "X_{u,v} = [0 \\cdots 0]^T\n",
    "$$\n",
    "in such case, doesn't matter what is the $\\theta$ parameters vector, the output/response will be always zero.\n",
    "* (_More dangerous yet..._) The only features that distinguish a movie from other movie in the features space, are the genres. Then if a user $u$ has seen two movies with the same genres, these pairs $(u,v)$ will have the same features representation. "
   ]
  },
  {
   "cell_type": "markdown",
   "metadata": {},
   "source": [
    "***\n",
    "***\n",
    "***\n",
    "***\n",
    "***"
   ]
  },
  {
   "cell_type": "markdown",
   "metadata": {},
   "source": [
    "# MLP (Feed Forward) Neural Network Approach "
   ]
  },
  {
   "cell_type": "markdown",
   "metadata": {},
   "source": [
    "![title](sdss_gal.jpg)"
   ]
  },
  {
   "cell_type": "code",
   "execution_count": 19,
   "metadata": {
    "collapsed": true
   },
   "outputs": [],
   "source": [
    "import keras\n",
    "from keras.utils.np_utils import to_categorical\n",
    "from keras.models import Sequential\n",
    "from keras.layers import Dense, Activation\n",
    "from keras.optimizers import SGD"
   ]
  },
  {
   "cell_type": "code",
   "execution_count": 30,
   "metadata": {
    "collapsed": true
   },
   "outputs": [],
   "source": [
    "model = Sequential()\n",
    "model.add(Dense(output_dim=12, input_dim=48, activation='relu', init='normal'))\n",
    "model.add(Dense(output_dim=1, init='normal', activation='linear'))\n",
    "\n",
    "# compiling the model\n",
    "model.compile(loss='mean_squared_error', optimizer=SGD(lr=0.01))"
   ]
  },
  {
   "cell_type": "code",
   "execution_count": 31,
   "metadata": {},
   "outputs": [
    {
     "name": "stdout",
     "output_type": "stream",
     "text": [
      "_________________________________________________________________\n",
      "Layer (type)                 Output Shape              Param #   \n",
      "=================================================================\n",
      "dense_10 (Dense)             (None, 12)                588       \n",
      "_________________________________________________________________\n",
      "dense_11 (Dense)             (None, 1)                 13        \n",
      "=================================================================\n",
      "Total params: 601\n",
      "Trainable params: 601\n",
      "Non-trainable params: 0\n",
      "_________________________________________________________________\n"
     ]
    }
   ],
   "source": [
    "model.summary()"
   ]
  },
  {
   "cell_type": "markdown",
   "metadata": {},
   "source": [
    "### Network Description:\n",
    "* 12 __hidden units__\n",
    "* __relu__ activation functions\n",
    "* weights initialized with __normal distribution__\n",
    "* output layer is __linear__\n",
    "* Optimization method is __Stochastic Gradient Descent__ with _learning rate_ 0.1\n",
    "* loss function is the __MSE__"
   ]
  },
  {
   "cell_type": "code",
   "execution_count": 57,
   "metadata": {},
   "outputs": [
    {
     "name": "stdout",
     "output_type": "stream",
     "text": [
      "\n"
     ]
    }
   ],
   "source": [
    "# fitting the model\n",
    "hist = model.fit(_feat_matrix, rating_matrix.ravel(), nb_epoch=10, \n",
    "                   verbose=0, validation_data=(_feat_matrix_test, rating_matrix_test))"
   ]
  },
  {
   "cell_type": "code",
   "execution_count": 49,
   "metadata": {},
   "outputs": [
    {
     "data": {
      "image/png": "[encoded data removed]",
      "text/plain": [
       "<matplotlib.figure.Figure at 0x127803a58>"
      ]
     },
     "metadata": {},
     "output_type": "display_data"
    }
   ],
   "source": [
    "plt.figure(figsize=(8,8))\n",
    "plt.plot(list(range(1,11)), hist['loss'], 'bo--', label='training')\n",
    "plt.plot(list(range(1,11)), hist['val_loss'], 'ro--', label='test')\n",
    "plt.grid()\n",
    "plt.xlabel('Epoch', fontsize=20)\n",
    "plt.ylabel('MSE loss', fontsize=20)\n",
    "plt.legend(loc='best', prop={'size': 20})\n",
    "plt.show()"
   ]
  },
  {
   "cell_type": "code",
   "execution_count": 54,
   "metadata": {},
   "outputs": [
    {
     "name": "stdout",
     "output_type": "stream",
     "text": [
      "MSE in training set: 0.951981\n",
      "MSE in test set: 5.951981\n"
     ]
    }
   ],
   "source": [
    "s1 = model.evaluate(_feat_matrix, rating_matrix.ravel(), verbose=0)\n",
    "s2 = model.evaluate(_feat_matrix_test, rating_matrix_test.ravel(), verbose=0)\n",
    "print(\"MSE in training set: {0}\".format(s1)) \n",
    "print(\"MSE in test set: {0}\".format(s2)) "
   ]
  },
  {
   "cell_type": "markdown",
   "metadata": {},
   "source": [
    " | **MSE LR** | **MSE MLP**\n",
    "--- | --- | ---\n",
    "** Train ** | 2.95981919 | 0.951981\n",
    "** Test ** | 9.12108112 | 5.951981"
   ]
  },
  {
   "cell_type": "markdown",
   "metadata": {},
   "source": [
    "## Some other difficulties\n",
    "* __Different approches use different metrics__ to compare the accuracy of its predictions\n",
    "* Some approaches modify the range of the ratings (1-5), making it even more difficult to compare"
   ]
  }
 ],
 "metadata": {
  "anaconda-cloud": {},
  "kernelspec": {
   "display_name": "Python 2",
   "language": "python",
   "name": "python2"
  },
  "language_info": {
   "codemirror_mode": {
    "name": "ipython",
    "version": 2
   },
   "file_extension": ".py",
   "mimetype": "text/x-python",
   "name": "python",
   "nbconvert_exporter": "python",
   "pygments_lexer": "ipython2",
   "version": "2.7.13"
  }
 },
 "nbformat": 4,
 "nbformat_minor": 2
}

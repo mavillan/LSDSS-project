{
 "cells": [
  {
   "cell_type": "code",
   "execution_count": 1,
   "metadata": {
    "collapsed": true
   },
   "outputs": [],
   "source": [
    "import pandas as pd\n",
    "import matplotlib.pyplot as plt\n",
    "import numpy as np\n",
    "import re\n",
    "import csv\n",
    "import numba\n",
    "from scipy.optimize import minimize\n",
    "from sklearn.model_selection import train_test_split\n",
    "from sklearn import linear_model"
   ]
  },
  {
   "cell_type": "markdown",
   "metadata": {},
   "source": [
    "### Features:\n",
    "\n",
    "Age, Gender, Occupation, Zipcode, Genre"
   ]
  },
  {
   "cell_type": "code",
   "execution_count": 4,
   "metadata": {
    "collapsed": true
   },
   "outputs": [],
   "source": [
    "# Load data\n",
    "ratings = pd.read_csv('ml-1m/ratings.dat', sep='::', engine='python')\n",
    "users = pd.read_csv('ml-1m/users.dat', sep='::', engine='python')\n",
    "movies = pd.read_csv('ml-1m/movies.dat', sep='::', engine='python')\n",
    "\n",
    "ratings.columns = map(str.lower, ratings.columns)\n",
    "users.columns = map(str.lower, users.columns)\n",
    "movies.columns = map(str.lower, movies.columns)\n",
    "\n",
    "\n",
    "df = pd.merge(ratings,users)\n",
    "df = pd.merge(df,movies)\n",
    "df['gender'] = df['gender'].replace(['M','F'],[0,1])\n",
    "df['genres'] = df['genres'].str.replace('|',',')\n",
    "df['genres'] = df['genres'].str.replace('Action','0')\n",
    "df['genres'] = df['genres'].str.replace('Adventure','1')\n",
    "df['genres'] = df['genres'].str.replace('Animation','2')\n",
    "df['genres'] = df['genres'].str.replace(\"Children's\",'3')\n",
    "df['genres'] = df['genres'].str.replace('Comedy','4')\n",
    "df['genres'] = df['genres'].str.replace('Crime','5')\n",
    "df['genres'] = df['genres'].str.replace('Documentary','6')\n",
    "df['genres'] = df['genres'].str.replace('Drama','7')\n",
    "df['genres'] = df['genres'].str.replace('Fantasy','8')\n",
    "df['genres'] = df['genres'].str.replace('Film-Noir','9')\n",
    "df['genres'] = df['genres'].str.replace('Horror','10')\n",
    "df['genres'] = df['genres'].str.replace('Musical','11')\n",
    "df['genres'] = df['genres'].str.replace('Mystery','12')\n",
    "df['genres'] = df['genres'].str.replace('Romance','13')\n",
    "df['genres'] = df['genres'].str.replace('Sci-Fi','14')\n",
    "df['genres'] = df['genres'].str.replace('Thriller','15')\n",
    "df['genres'] = df['genres'].str.replace('War','16')\n",
    "df['genres'] = df['genres'].str.replace('Western','17')\n",
    "\n",
    "\n",
    "df['age'] = df['age'].replace('1',0)\n",
    "df['age'] = df['age'].replace('18',1)\n",
    "df['age'] = df['age'].replace('25',2)\n",
    "df['age'] = df['age'].replace('35',3)\n",
    "df['age'] = df['age'].replace('45',4)\n",
    "df['age'] = df['age'].replace('50',5)\n",
    "df['age'] = df['age'].replace('56',6)"
   ]
  },
  {
   "cell_type": "code",
   "execution_count": 5,
   "metadata": {},
   "outputs": [
    {
     "data": {
      "text/html": [
       "<div>\n",
       "<style>\n",
       "    .dataframe thead tr:only-child th {\n",
       "        text-align: right;\n",
       "    }\n",
       "\n",
       "    .dataframe thead th {\n",
       "        text-align: left;\n",
       "    }\n",
       "\n",
       "    .dataframe tbody tr th {\n",
       "        vertical-align: top;\n",
       "    }\n",
       "</style>\n",
       "<table border=\"1\" class=\"dataframe\">\n",
       "  <thead>\n",
       "    <tr style=\"text-align: right;\">\n",
       "      <th></th>\n",
       "      <th>userid</th>\n",
       "      <th>movieid</th>\n",
       "      <th>rating</th>\n",
       "      <th>timestamp</th>\n",
       "      <th>gender</th>\n",
       "      <th>age</th>\n",
       "      <th>occupation</th>\n",
       "      <th>zip-code</th>\n",
       "      <th>title</th>\n",
       "      <th>genres</th>\n",
       "    </tr>\n",
       "  </thead>\n",
       "  <tbody>\n",
       "    <tr>\n",
       "      <th>0</th>\n",
       "      <td>1</td>\n",
       "      <td>1193</td>\n",
       "      <td>5</td>\n",
       "      <td>978300760</td>\n",
       "      <td>1</td>\n",
       "      <td>1</td>\n",
       "      <td>10</td>\n",
       "      <td>48067</td>\n",
       "      <td>One Flew Over the Cuckoo's Nest (1975)</td>\n",
       "      <td>7</td>\n",
       "    </tr>\n",
       "    <tr>\n",
       "      <th>1</th>\n",
       "      <td>2</td>\n",
       "      <td>1193</td>\n",
       "      <td>5</td>\n",
       "      <td>978298413</td>\n",
       "      <td>0</td>\n",
       "      <td>56</td>\n",
       "      <td>16</td>\n",
       "      <td>70072</td>\n",
       "      <td>One Flew Over the Cuckoo's Nest (1975)</td>\n",
       "      <td>7</td>\n",
       "    </tr>\n",
       "    <tr>\n",
       "      <th>2</th>\n",
       "      <td>12</td>\n",
       "      <td>1193</td>\n",
       "      <td>4</td>\n",
       "      <td>978220179</td>\n",
       "      <td>0</td>\n",
       "      <td>25</td>\n",
       "      <td>12</td>\n",
       "      <td>32793</td>\n",
       "      <td>One Flew Over the Cuckoo's Nest (1975)</td>\n",
       "      <td>7</td>\n",
       "    </tr>\n",
       "    <tr>\n",
       "      <th>3</th>\n",
       "      <td>15</td>\n",
       "      <td>1193</td>\n",
       "      <td>4</td>\n",
       "      <td>978199279</td>\n",
       "      <td>0</td>\n",
       "      <td>25</td>\n",
       "      <td>7</td>\n",
       "      <td>22903</td>\n",
       "      <td>One Flew Over the Cuckoo's Nest (1975)</td>\n",
       "      <td>7</td>\n",
       "    </tr>\n",
       "    <tr>\n",
       "      <th>4</th>\n",
       "      <td>17</td>\n",
       "      <td>1193</td>\n",
       "      <td>5</td>\n",
       "      <td>978158471</td>\n",
       "      <td>0</td>\n",
       "      <td>50</td>\n",
       "      <td>1</td>\n",
       "      <td>95350</td>\n",
       "      <td>One Flew Over the Cuckoo's Nest (1975)</td>\n",
       "      <td>7</td>\n",
       "    </tr>\n",
       "  </tbody>\n",
       "</table>\n",
       "</div>"
      ],
      "text/plain": [
       "   userid  movieid  rating  timestamp  gender  age  occupation zip-code  \\\n",
       "0       1     1193       5  978300760       1    1          10    48067   \n",
       "1       2     1193       5  978298413       0   56          16    70072   \n",
       "2      12     1193       4  978220179       0   25          12    32793   \n",
       "3      15     1193       4  978199279       0   25           7    22903   \n",
       "4      17     1193       5  978158471       0   50           1    95350   \n",
       "\n",
       "                                    title genres  \n",
       "0  One Flew Over the Cuckoo's Nest (1975)      7  \n",
       "1  One Flew Over the Cuckoo's Nest (1975)      7  \n",
       "2  One Flew Over the Cuckoo's Nest (1975)      7  \n",
       "3  One Flew Over the Cuckoo's Nest (1975)      7  \n",
       "4  One Flew Over the Cuckoo's Nest (1975)      7  "
      ]
     },
     "execution_count": 5,
     "metadata": {},
     "output_type": "execute_result"
    }
   ],
   "source": [
    "df.head()"
   ]
  },
  {
   "cell_type": "code",
   "execution_count": 6,
   "metadata": {},
   "outputs": [
    {
     "name": "stdout",
     "output_type": "stream",
     "text": [
      "Number of users: 6040\n",
      "Number of items: 3952\n"
     ]
    }
   ],
   "source": [
    "n_users = users['userid'].max(); print(\"Number of users: {0}\".format(n_users))\n",
    "n_items = movies['movieid'].max(); print(\"Number of items: {0}\".format(n_items))"
   ]
  },
  {
   "cell_type": "markdown",
   "metadata": {},
   "source": [
    "### Building the features matrix"
   ]
  },
  {
   "cell_type": "code",
   "execution_count": 7,
   "metadata": {},
   "outputs": [],
   "source": [
    "users = df['userid'].values-1\n",
    "movies = df['movieid'].values-1\n",
    "rating = df['rating'].values\n",
    "gender = df['gender'].values\n",
    "age = df['age'].values\n",
    "occupation = df['occupation'].values\n",
    "genres = df['genres'].values"
   ]
  },
  {
   "cell_type": "code",
   "execution_count": 8,
   "metadata": {},
   "outputs": [],
   "source": [
    "# Building the features matrix\n",
    "feat_matrix = np.zeros((n_users,n_items,48))\n",
    "\n",
    "uid = ratings['userid'].values - 1\n",
    "mid = ratings['movieid'].values - 1\n",
    "rt =  ratings['rating'].values\n",
    "\n",
    "for i in range(df.shape[0]):\n",
    "    # Check gender\n",
    "    u_index = uid[i]\n",
    "    m_index = mid[i]\n",
    "    \n",
    "    if gender[i] == 0:\n",
    "        feat_matrix[u_index, m_index, 0]=1\n",
    "    else:\n",
    "        feat_matrix[u_index, m_index ,1]=1\n",
    "\n",
    "    # Check age\n",
    "    for j in range(0,6):\n",
    "        if age[i] == j:\n",
    "            feat_matrix[u_index, m_index, j+2] = 1\n",
    "\n",
    "    # Check occupation\n",
    "    for k in range(0,20):\n",
    "        if occupation[i] == k:\n",
    "            feat_matrix[u_index, m_index, k+9] = 1\n",
    "\n",
    "    # Check genres\n",
    "    for l in range(0,17):\n",
    "        if '%d' %(l) in genres[i]:\n",
    "            feat_matrix[u_index, m_index, l+30]=1       "
   ]
  },
  {
   "cell_type": "code",
   "execution_count": 9,
   "metadata": {
    "collapsed": true
   },
   "outputs": [],
   "source": [
    "# Building the predictions matrix (ground truth) \n",
    "rating_matrix = np.zeros((n_users, n_items))\n",
    "\n",
    "for i in range(df.shape[0]):\n",
    "    # Check gender\n",
    "    u_index = uid[i]\n",
    "    m_index = mid[i]  \n",
    "    rating_matrix[u_index,m_index] = rating[i]"
   ]
  },
  {
   "cell_type": "code",
   "execution_count": 10,
   "metadata": {
    "collapsed": true
   },
   "outputs": [],
   "source": [
    "@numba.jit()\n",
    "def predict(feat_matrix, theta):\n",
    "    m,n,_ = feat_matrix.shape\n",
    "    pred = np.empty((m,n))\n",
    "    \n",
    "    for i in range(m):\n",
    "        for j in range(n):\n",
    "            pred[i,j] = np.dot(feat_matrix[i,j,:], theta)\n",
    "    \n",
    "    return pred"
   ]
  },
  {
   "cell_type": "code",
   "execution_count": 11,
   "metadata": {
    "scrolled": true
   },
   "outputs": [],
   "source": [
    "def loss(y_real, y_pred):\n",
    "    return np.sum((y_real-y_pred)**2)"
   ]
  },
  {
   "cell_type": "code",
   "execution_count": null,
   "metadata": {},
   "outputs": [],
   "source": [
    "# 3D to 2D mapping\n",
    "m,n,_ = feat_matrix.shape\n",
    "_feat_matrix = np.empty((m*n,48))\n",
    "for i in range(m):\n",
    "    for j in range(n):\n",
    "        _feat_matrix[i*j,:] = feat_matrix[i,j,:]"
   ]
  },
  {
   "cell_type": "code",
   "execution_count": null,
   "metadata": {},
   "outputs": [],
   "source": [
    "# Create linear regression object\n",
    "regr = linear_model.LinearRegression()\n",
    "\n",
    "# Train the model using the training sets\n",
    "regr.fit(_feat_matrix, pred_matrix.ravel())"
   ]
  },
  {
   "cell_type": "code",
   "execution_count": null,
   "metadata": {
    "collapsed": true
   },
   "outputs": [],
   "source": []
  }
 ],
 "metadata": {
  "anaconda-cloud": {},
  "kernelspec": {
   "display_name": "Python 3",
   "language": "python",
   "name": "python3"
  },
  "language_info": {
   "codemirror_mode": {
    "name": "ipython",
    "version": 3
   },
   "file_extension": ".py",
   "mimetype": "text/x-python",
   "name": "python",
   "nbconvert_exporter": "python",
   "pygments_lexer": "ipython3",
   "version": "3.6.2"
  }
 },
 "nbformat": 4,
 "nbformat_minor": 2
}
